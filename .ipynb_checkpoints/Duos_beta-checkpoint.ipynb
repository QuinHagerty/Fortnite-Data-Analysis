{
 "cells": [
  {
   "cell_type": "code",
   "execution_count": 84,
   "metadata": {},
   "outputs": [],
   "source": [
    "import calendar\n",
    "import datetime\n",
    "import matplotlib.pyplot as plt\n",
    "import numpy as np\n",
    "import pandas as pd\n",
    "import requests\n",
    "import sqlite3"
   ]
  },
  {
   "cell_type": "markdown",
   "metadata": {},
   "source": [
    "All imports, needed for this project, in alphabetical order."
   ]
  },
  {
   "cell_type": "code",
   "execution_count": 85,
   "metadata": {
    "scrolled": true
   },
   "outputs": [],
   "source": [
    "url = \"https://api.fortnitetracker.com/v1/profile/account/b7c3c6c66e08499eade89c43f31ea2be/matches\"\n",
    "headers = {'TRN-Api-Key':'07678e9b-0fe4-447b-907d-8d141073f496'}\n",
    "\n",
    "r = requests.get(url, headers=headers)"
   ]
  },
  {
   "cell_type": "markdown",
   "metadata": {},
   "source": [
    "Requesting data from the Fortnite TRN match traker API"
   ]
  },
  {
   "cell_type": "code",
   "execution_count": 86,
   "metadata": {
    "scrolled": true
   },
   "outputs": [
    {
     "data": {
      "text/plain": [
       "<Response [200]>"
      ]
     },
     "execution_count": 86,
     "metadata": {},
     "output_type": "execute_result"
    }
   ],
   "source": [
    "r"
   ]
  },
  {
   "cell_type": "markdown",
   "metadata": {},
   "source": [
    "Response [200] All is well!"
   ]
  },
  {
   "cell_type": "code",
   "execution_count": 87,
   "metadata": {
    "scrolled": false
   },
   "outputs": [],
   "source": [
    "datasnapshot = r.json()\n",
    "conn = sqlite3.connect('duo_beta_db.db')\n",
    "JumbData = pd.DataFrame.from_dict(datasnapshot)\n",
    "JumbData.to_sql(\"Jumb player data\", conn, if_exists = 'append')"
   ]
  },
  {
   "cell_type": "code",
   "execution_count": 88,
   "metadata": {},
   "outputs": [],
   "source": [
    "#SQL QUERY\n",
    "query = 'select * from \"Jumb Player Data\"'\n",
    "\n",
    "#Python to pull the output of SQL Query into a pandas dataframe(saved as 'games')\n",
    "games = pd.read_sql(query, conn)"
   ]
  },
  {
   "cell_type": "code",
   "execution_count": 89,
   "metadata": {},
   "outputs": [
    {
     "data": {
      "text/plain": [
       "300"
      ]
     },
     "execution_count": 89,
     "metadata": {},
     "output_type": "execute_result"
    }
   ],
   "source": [
    "len(games)"
   ]
  },
  {
   "cell_type": "code",
   "execution_count": 90,
   "metadata": {},
   "outputs": [],
   "source": [
    "query = \"Select sum(kills) kills, sum(matches) matches, ((sum(kills)/1.0)/sum(matches)) kpm, \"\\\n",
    "\"substr(dateCollected, 0, 11) date, '' dayofweek, '' weeknumber from 'Jumb Player Data' group by substr(dateCollected, 0, 11) order by date \"\n",
    "\n",
    "player2 = pd.read_sql(query, conn)\n",
    "def dateToDay(date):\n",
    "    day = datetime.datetime.strptime(date,'%Y-%m-%d')\n",
    "    weekday = calendar.day_name[day.weekday()]\n",
    "    return weekday\n",
    "\n",
    "def weekNumber(date):\n",
    "    weekNumber = datetime.datetime.strptime(date,'%Y-%m-%d').isocalendar()[1]\n",
    "    return weekNumber\n",
    "\n",
    "for index, row in player2.iterrows():\n",
    "    weekday = dateToDay(row['date'])\n",
    "    player2.at[index, 'dayofweek'] = weekday\n",
    "    weeknumber = weekNumber(row['date'])\n",
    "    player2.at[index, 'weeknumber'] = weeknumber"
   ]
  },
  {
   "cell_type": "code",
   "execution_count": 91,
   "metadata": {
    "scrolled": false
   },
   "outputs": [
    {
     "data": {
      "text/html": [
       "<div>\n",
       "<style scoped>\n",
       "    .dataframe tbody tr th:only-of-type {\n",
       "        vertical-align: middle;\n",
       "    }\n",
       "\n",
       "    .dataframe tbody tr th {\n",
       "        vertical-align: top;\n",
       "    }\n",
       "\n",
       "    .dataframe thead th {\n",
       "        text-align: right;\n",
       "    }\n",
       "</style>\n",
       "<table border=\"1\" class=\"dataframe\">\n",
       "  <thead>\n",
       "    <tr style=\"text-align: right;\">\n",
       "      <th></th>\n",
       "      <th>kills</th>\n",
       "      <th>matches</th>\n",
       "      <th>kpm</th>\n",
       "      <th>date</th>\n",
       "      <th>dayofweek</th>\n",
       "      <th>weeknumber</th>\n",
       "    </tr>\n",
       "  </thead>\n",
       "  <tbody>\n",
       "    <tr>\n",
       "      <th>0</th>\n",
       "      <td>45</td>\n",
       "      <td>25</td>\n",
       "      <td>1.800000</td>\n",
       "      <td>2018-10-11</td>\n",
       "      <td>Thursday</td>\n",
       "      <td>41</td>\n",
       "    </tr>\n",
       "    <tr>\n",
       "      <th>1</th>\n",
       "      <td>263</td>\n",
       "      <td>136</td>\n",
       "      <td>1.933824</td>\n",
       "      <td>2018-10-12</td>\n",
       "      <td>Friday</td>\n",
       "      <td>41</td>\n",
       "    </tr>\n",
       "    <tr>\n",
       "      <th>2</th>\n",
       "      <td>414</td>\n",
       "      <td>138</td>\n",
       "      <td>3.000000</td>\n",
       "      <td>2018-10-13</td>\n",
       "      <td>Saturday</td>\n",
       "      <td>41</td>\n",
       "    </tr>\n",
       "    <tr>\n",
       "      <th>3</th>\n",
       "      <td>108</td>\n",
       "      <td>60</td>\n",
       "      <td>1.800000</td>\n",
       "      <td>2018-10-14</td>\n",
       "      <td>Sunday</td>\n",
       "      <td>41</td>\n",
       "    </tr>\n",
       "    <tr>\n",
       "      <th>4</th>\n",
       "      <td>30</td>\n",
       "      <td>18</td>\n",
       "      <td>1.666667</td>\n",
       "      <td>2018-10-15</td>\n",
       "      <td>Monday</td>\n",
       "      <td>42</td>\n",
       "    </tr>\n",
       "    <tr>\n",
       "      <th>5</th>\n",
       "      <td>216</td>\n",
       "      <td>114</td>\n",
       "      <td>1.894737</td>\n",
       "      <td>2018-10-16</td>\n",
       "      <td>Tuesday</td>\n",
       "      <td>42</td>\n",
       "    </tr>\n",
       "    <tr>\n",
       "      <th>6</th>\n",
       "      <td>432</td>\n",
       "      <td>222</td>\n",
       "      <td>1.945946</td>\n",
       "      <td>2018-10-18</td>\n",
       "      <td>Thursday</td>\n",
       "      <td>42</td>\n",
       "    </tr>\n",
       "    <tr>\n",
       "      <th>7</th>\n",
       "      <td>540</td>\n",
       "      <td>216</td>\n",
       "      <td>2.500000</td>\n",
       "      <td>2018-10-20</td>\n",
       "      <td>Saturday</td>\n",
       "      <td>42</td>\n",
       "    </tr>\n",
       "    <tr>\n",
       "      <th>8</th>\n",
       "      <td>760</td>\n",
       "      <td>385</td>\n",
       "      <td>1.974026</td>\n",
       "      <td>2018-10-23</td>\n",
       "      <td>Tuesday</td>\n",
       "      <td>43</td>\n",
       "    </tr>\n",
       "    <tr>\n",
       "      <th>9</th>\n",
       "      <td>365</td>\n",
       "      <td>240</td>\n",
       "      <td>1.520833</td>\n",
       "      <td>2018-10-25</td>\n",
       "      <td>Thursday</td>\n",
       "      <td>43</td>\n",
       "    </tr>\n",
       "    <tr>\n",
       "      <th>10</th>\n",
       "      <td>95</td>\n",
       "      <td>70</td>\n",
       "      <td>1.357143</td>\n",
       "      <td>2018-10-26</td>\n",
       "      <td>Friday</td>\n",
       "      <td>43</td>\n",
       "    </tr>\n",
       "    <tr>\n",
       "      <th>11</th>\n",
       "      <td>200</td>\n",
       "      <td>110</td>\n",
       "      <td>1.818182</td>\n",
       "      <td>2018-10-29</td>\n",
       "      <td>Monday</td>\n",
       "      <td>44</td>\n",
       "    </tr>\n",
       "  </tbody>\n",
       "</table>\n",
       "</div>"
      ],
      "text/plain": [
       "    kills  matches       kpm        date dayofweek weeknumber\n",
       "0      45       25  1.800000  2018-10-11  Thursday         41\n",
       "1     263      136  1.933824  2018-10-12    Friday         41\n",
       "2     414      138  3.000000  2018-10-13  Saturday         41\n",
       "3     108       60  1.800000  2018-10-14    Sunday         41\n",
       "4      30       18  1.666667  2018-10-15    Monday         42\n",
       "5     216      114  1.894737  2018-10-16   Tuesday         42\n",
       "6     432      222  1.945946  2018-10-18  Thursday         42\n",
       "7     540      216  2.500000  2018-10-20  Saturday         42\n",
       "8     760      385  1.974026  2018-10-23   Tuesday         43\n",
       "9     365      240  1.520833  2018-10-25  Thursday         43\n",
       "10     95       70  1.357143  2018-10-26    Friday         43\n",
       "11    200      110  1.818182  2018-10-29    Monday         44"
      ]
     },
     "execution_count": 91,
     "metadata": {},
     "output_type": "execute_result"
    }
   ],
   "source": [
    "player2"
   ]
  },
  {
   "cell_type": "code",
   "execution_count": 92,
   "metadata": {
    "scrolled": false
   },
   "outputs": [
    {
     "data": {
      "image/png": "[encoded data removed]",
      "text/plain": [
       "<Figure size 432x288 with 1 Axes>"
      ]
     },
     "metadata": {},
     "output_type": "display_data"
    }
   ],
   "source": [
    "ax = plt.gca()\n",
    "\n",
    "player2.plot(kind='line', x='dayofweek', y='kpm', color='red', ax=ax)\n",
    "\n",
    "plt.show()"
   ]
  }
 ],
 "metadata": {
  "kernelspec": {
   "display_name": "Python 3",
   "language": "python",
   "name": "python3"
  },
  "language_info": {
   "codemirror_mode": {
    "name": "ipython",
    "version": 3
   },
   "file_extension": ".py",
   "mimetype": "text/x-python",
   "name": "python",
   "nbconvert_exporter": "python",
   "pygments_lexer": "ipython3",
   "version": "3.6.5"
  }
 },
 "nbformat": 4,
 "nbformat_minor": 2
}
